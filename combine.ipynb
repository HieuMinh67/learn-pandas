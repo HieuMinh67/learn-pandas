{
 "cells": [
  {
   "cell_type": "code",
   "execution_count": 1,
   "metadata": {
    "collapsed": true
   },
   "outputs": [],
   "source": [
    "import pandas as pd"
   ]
  },
  {
   "cell_type": "code",
   "execution_count": 3,
   "outputs": [
    {
     "data": {
      "text/plain": "                    date.utc location parameter  value\n0  2019-06-21 00:00:00+00:00  FR04014       no2   20.0\n1  2019-06-20 23:00:00+00:00  FR04014       no2   21.8\n2  2019-06-20 22:00:00+00:00  FR04014       no2   26.5\n3  2019-06-20 21:00:00+00:00  FR04014       no2   24.9\n4  2019-06-20 20:00:00+00:00  FR04014       no2   21.4",
      "text/html": "<div>\n<style scoped>\n    .dataframe tbody tr th:only-of-type {\n        vertical-align: middle;\n    }\n\n    .dataframe tbody tr th {\n        vertical-align: top;\n    }\n\n    .dataframe thead th {\n        text-align: right;\n    }\n</style>\n<table border=\"1\" class=\"dataframe\">\n  <thead>\n    <tr style=\"text-align: right;\">\n      <th></th>\n      <th>date.utc</th>\n      <th>location</th>\n      <th>parameter</th>\n      <th>value</th>\n    </tr>\n  </thead>\n  <tbody>\n    <tr>\n      <th>0</th>\n      <td>2019-06-21 00:00:00+00:00</td>\n      <td>FR04014</td>\n      <td>no2</td>\n      <td>20.0</td>\n    </tr>\n    <tr>\n      <th>1</th>\n      <td>2019-06-20 23:00:00+00:00</td>\n      <td>FR04014</td>\n      <td>no2</td>\n      <td>21.8</td>\n    </tr>\n    <tr>\n      <th>2</th>\n      <td>2019-06-20 22:00:00+00:00</td>\n      <td>FR04014</td>\n      <td>no2</td>\n      <td>26.5</td>\n    </tr>\n    <tr>\n      <th>3</th>\n      <td>2019-06-20 21:00:00+00:00</td>\n      <td>FR04014</td>\n      <td>no2</td>\n      <td>24.9</td>\n    </tr>\n    <tr>\n      <th>4</th>\n      <td>2019-06-20 20:00:00+00:00</td>\n      <td>FR04014</td>\n      <td>no2</td>\n      <td>21.4</td>\n    </tr>\n  </tbody>\n</table>\n</div>"
     },
     "execution_count": 3,
     "metadata": {},
     "output_type": "execute_result"
    }
   ],
   "source": [
    "air_quality_no2 = pd.read_csv(\"data/air_quality_no2_long.csv\",\n",
    "                              parse_dates=True)\n",
    "\n",
    "air_quality_no2 = air_quality_no2[[\"date.utc\", \"location\",\n",
    "                                   \"parameter\", \"value\"]]\n",
    "\n",
    "air_quality_no2.head()"
   ],
   "metadata": {
    "collapsed": false
   }
  },
  {
   "cell_type": "code",
   "execution_count": 4,
   "outputs": [
    {
     "data": {
      "text/plain": "                    date.utc location parameter  value\n0  2019-06-18 06:00:00+00:00  BETR801      pm25   18.0\n1  2019-06-17 08:00:00+00:00  BETR801      pm25    6.5\n2  2019-06-17 07:00:00+00:00  BETR801      pm25   18.5\n3  2019-06-17 06:00:00+00:00  BETR801      pm25   16.0\n4  2019-06-17 05:00:00+00:00  BETR801      pm25    7.5",
      "text/html": "<div>\n<style scoped>\n    .dataframe tbody tr th:only-of-type {\n        vertical-align: middle;\n    }\n\n    .dataframe tbody tr th {\n        vertical-align: top;\n    }\n\n    .dataframe thead th {\n        text-align: right;\n    }\n</style>\n<table border=\"1\" class=\"dataframe\">\n  <thead>\n    <tr style=\"text-align: right;\">\n      <th></th>\n      <th>date.utc</th>\n      <th>location</th>\n      <th>parameter</th>\n      <th>value</th>\n    </tr>\n  </thead>\n  <tbody>\n    <tr>\n      <th>0</th>\n      <td>2019-06-18 06:00:00+00:00</td>\n      <td>BETR801</td>\n      <td>pm25</td>\n      <td>18.0</td>\n    </tr>\n    <tr>\n      <th>1</th>\n      <td>2019-06-17 08:00:00+00:00</td>\n      <td>BETR801</td>\n      <td>pm25</td>\n      <td>6.5</td>\n    </tr>\n    <tr>\n      <th>2</th>\n      <td>2019-06-17 07:00:00+00:00</td>\n      <td>BETR801</td>\n      <td>pm25</td>\n      <td>18.5</td>\n    </tr>\n    <tr>\n      <th>3</th>\n      <td>2019-06-17 06:00:00+00:00</td>\n      <td>BETR801</td>\n      <td>pm25</td>\n      <td>16.0</td>\n    </tr>\n    <tr>\n      <th>4</th>\n      <td>2019-06-17 05:00:00+00:00</td>\n      <td>BETR801</td>\n      <td>pm25</td>\n      <td>7.5</td>\n    </tr>\n  </tbody>\n</table>\n</div>"
     },
     "execution_count": 4,
     "metadata": {},
     "output_type": "execute_result"
    }
   ],
   "source": [
    "air_quality_pm25 = pd.read_csv(\"data/air_quality_pm25_long.csv\",\n",
    "                               parse_dates=True)\n",
    "\n",
    "air_quality_pm25 = air_quality_pm25[[\"date.utc\", \"location\",\n",
    "                                     \"parameter\", \"value\"]]\n",
    "\n",
    "air_quality_pm25.head()"
   ],
   "metadata": {
    "collapsed": false
   }
  },
  {
   "cell_type": "code",
   "execution_count": 5,
   "outputs": [
    {
     "data": {
      "text/plain": "                    date.utc location parameter  value\n0  2019-06-18 06:00:00+00:00  BETR801      pm25   18.0\n1  2019-06-17 08:00:00+00:00  BETR801      pm25    6.5\n2  2019-06-17 07:00:00+00:00  BETR801      pm25   18.5\n3  2019-06-17 06:00:00+00:00  BETR801      pm25   16.0\n4  2019-06-17 05:00:00+00:00  BETR801      pm25    7.5",
      "text/html": "<div>\n<style scoped>\n    .dataframe tbody tr th:only-of-type {\n        vertical-align: middle;\n    }\n\n    .dataframe tbody tr th {\n        vertical-align: top;\n    }\n\n    .dataframe thead th {\n        text-align: right;\n    }\n</style>\n<table border=\"1\" class=\"dataframe\">\n  <thead>\n    <tr style=\"text-align: right;\">\n      <th></th>\n      <th>date.utc</th>\n      <th>location</th>\n      <th>parameter</th>\n      <th>value</th>\n    </tr>\n  </thead>\n  <tbody>\n    <tr>\n      <th>0</th>\n      <td>2019-06-18 06:00:00+00:00</td>\n      <td>BETR801</td>\n      <td>pm25</td>\n      <td>18.0</td>\n    </tr>\n    <tr>\n      <th>1</th>\n      <td>2019-06-17 08:00:00+00:00</td>\n      <td>BETR801</td>\n      <td>pm25</td>\n      <td>6.5</td>\n    </tr>\n    <tr>\n      <th>2</th>\n      <td>2019-06-17 07:00:00+00:00</td>\n      <td>BETR801</td>\n      <td>pm25</td>\n      <td>18.5</td>\n    </tr>\n    <tr>\n      <th>3</th>\n      <td>2019-06-17 06:00:00+00:00</td>\n      <td>BETR801</td>\n      <td>pm25</td>\n      <td>16.0</td>\n    </tr>\n    <tr>\n      <th>4</th>\n      <td>2019-06-17 05:00:00+00:00</td>\n      <td>BETR801</td>\n      <td>pm25</td>\n      <td>7.5</td>\n    </tr>\n  </tbody>\n</table>\n</div>"
     },
     "execution_count": 5,
     "metadata": {},
     "output_type": "execute_result"
    }
   ],
   "source": [
    "air_quality = pd.concat([air_quality_pm25, air_quality_no2], axis=0)\n",
    "\n",
    "air_quality.head()"
   ],
   "metadata": {
    "collapsed": false
   }
  },
  {
   "cell_type": "code",
   "execution_count": 6,
   "outputs": [
    {
     "name": "stdout",
     "output_type": "stream",
     "text": [
      "Shape of the ``air_quality_pm25`` table:  (1110, 4)\n",
      "Shape of the ``air_quality_no2`` table:  (2068, 4)\n",
      "Shape of the resulting ``air_quality`` table:  (3178, 4)\n"
     ]
    }
   ],
   "source": [
    "print('Shape of the ``air_quality_pm25`` table: ', air_quality_pm25.shape)\n",
    "\n",
    "print('Shape of the ``air_quality_no2`` table: ', air_quality_no2.shape)\n",
    "\n",
    "print('Shape of the resulting ``air_quality`` table: ', air_quality.shape)"
   ],
   "metadata": {
    "collapsed": false
   }
  },
  {
   "cell_type": "code",
   "execution_count": 7,
   "outputs": [
    {
     "data": {
      "text/plain": "                       date.utc            location parameter  value\n2067  2019-05-07 01:00:00+00:00  London Westminster       no2   23.0\n1003  2019-05-07 01:00:00+00:00             FR04014       no2   25.0\n100   2019-05-07 01:00:00+00:00             BETR801      pm25   12.5\n1098  2019-05-07 01:00:00+00:00             BETR801       no2   50.5\n1109  2019-05-07 01:00:00+00:00  London Westminster      pm25    8.0",
      "text/html": "<div>\n<style scoped>\n    .dataframe tbody tr th:only-of-type {\n        vertical-align: middle;\n    }\n\n    .dataframe tbody tr th {\n        vertical-align: top;\n    }\n\n    .dataframe thead th {\n        text-align: right;\n    }\n</style>\n<table border=\"1\" class=\"dataframe\">\n  <thead>\n    <tr style=\"text-align: right;\">\n      <th></th>\n      <th>date.utc</th>\n      <th>location</th>\n      <th>parameter</th>\n      <th>value</th>\n    </tr>\n  </thead>\n  <tbody>\n    <tr>\n      <th>2067</th>\n      <td>2019-05-07 01:00:00+00:00</td>\n      <td>London Westminster</td>\n      <td>no2</td>\n      <td>23.0</td>\n    </tr>\n    <tr>\n      <th>1003</th>\n      <td>2019-05-07 01:00:00+00:00</td>\n      <td>FR04014</td>\n      <td>no2</td>\n      <td>25.0</td>\n    </tr>\n    <tr>\n      <th>100</th>\n      <td>2019-05-07 01:00:00+00:00</td>\n      <td>BETR801</td>\n      <td>pm25</td>\n      <td>12.5</td>\n    </tr>\n    <tr>\n      <th>1098</th>\n      <td>2019-05-07 01:00:00+00:00</td>\n      <td>BETR801</td>\n      <td>no2</td>\n      <td>50.5</td>\n    </tr>\n    <tr>\n      <th>1109</th>\n      <td>2019-05-07 01:00:00+00:00</td>\n      <td>London Westminster</td>\n      <td>pm25</td>\n      <td>8.0</td>\n    </tr>\n  </tbody>\n</table>\n</div>"
     },
     "execution_count": 7,
     "metadata": {},
     "output_type": "execute_result"
    }
   ],
   "source": [
    "air_quality = air_quality.sort_values(\"date.utc\")\n",
    "\n",
    "air_quality.head()"
   ],
   "metadata": {
    "collapsed": false
   }
  },
  {
   "cell_type": "code",
   "execution_count": 8,
   "outputs": [
    {
     "data": {
      "text/plain": "                         date.utc location parameter  value\nPM25 0  2019-06-18 06:00:00+00:00  BETR801      pm25   18.0\n     1  2019-06-17 08:00:00+00:00  BETR801      pm25    6.5\n     2  2019-06-17 07:00:00+00:00  BETR801      pm25   18.5\n     3  2019-06-17 06:00:00+00:00  BETR801      pm25   16.0\n     4  2019-06-17 05:00:00+00:00  BETR801      pm25    7.5",
      "text/html": "<div>\n<style scoped>\n    .dataframe tbody tr th:only-of-type {\n        vertical-align: middle;\n    }\n\n    .dataframe tbody tr th {\n        vertical-align: top;\n    }\n\n    .dataframe thead th {\n        text-align: right;\n    }\n</style>\n<table border=\"1\" class=\"dataframe\">\n  <thead>\n    <tr style=\"text-align: right;\">\n      <th></th>\n      <th></th>\n      <th>date.utc</th>\n      <th>location</th>\n      <th>parameter</th>\n      <th>value</th>\n    </tr>\n  </thead>\n  <tbody>\n    <tr>\n      <th rowspan=\"5\" valign=\"top\">PM25</th>\n      <th>0</th>\n      <td>2019-06-18 06:00:00+00:00</td>\n      <td>BETR801</td>\n      <td>pm25</td>\n      <td>18.0</td>\n    </tr>\n    <tr>\n      <th>1</th>\n      <td>2019-06-17 08:00:00+00:00</td>\n      <td>BETR801</td>\n      <td>pm25</td>\n      <td>6.5</td>\n    </tr>\n    <tr>\n      <th>2</th>\n      <td>2019-06-17 07:00:00+00:00</td>\n      <td>BETR801</td>\n      <td>pm25</td>\n      <td>18.5</td>\n    </tr>\n    <tr>\n      <th>3</th>\n      <td>2019-06-17 06:00:00+00:00</td>\n      <td>BETR801</td>\n      <td>pm25</td>\n      <td>16.0</td>\n    </tr>\n    <tr>\n      <th>4</th>\n      <td>2019-06-17 05:00:00+00:00</td>\n      <td>BETR801</td>\n      <td>pm25</td>\n      <td>7.5</td>\n    </tr>\n  </tbody>\n</table>\n</div>"
     },
     "execution_count": 8,
     "metadata": {},
     "output_type": "execute_result"
    }
   ],
   "source": [
    "air_quality_ = pd.concat([air_quality_pm25, air_quality_no2], keys=[\"PM25\", \"NO2\"])\n",
    "\n",
    "air_quality_.head()"
   ],
   "metadata": {
    "collapsed": false
   }
  },
  {
   "cell_type": "code",
   "execution_count": 10,
   "outputs": [
    {
     "data": {
      "text/plain": "  location  coordinates.latitude  coordinates.longitude\n0  BELAL01              51.23619                4.38522\n1  BELHB23              51.17030                4.34100\n2  BELLD01              51.10998                5.00486\n3  BELLD02              51.12038                5.02155\n4  BELR833              51.32766                4.36226",
      "text/html": "<div>\n<style scoped>\n    .dataframe tbody tr th:only-of-type {\n        vertical-align: middle;\n    }\n\n    .dataframe tbody tr th {\n        vertical-align: top;\n    }\n\n    .dataframe thead th {\n        text-align: right;\n    }\n</style>\n<table border=\"1\" class=\"dataframe\">\n  <thead>\n    <tr style=\"text-align: right;\">\n      <th></th>\n      <th>location</th>\n      <th>coordinates.latitude</th>\n      <th>coordinates.longitude</th>\n    </tr>\n  </thead>\n  <tbody>\n    <tr>\n      <th>0</th>\n      <td>BELAL01</td>\n      <td>51.23619</td>\n      <td>4.38522</td>\n    </tr>\n    <tr>\n      <th>1</th>\n      <td>BELHB23</td>\n      <td>51.17030</td>\n      <td>4.34100</td>\n    </tr>\n    <tr>\n      <th>2</th>\n      <td>BELLD01</td>\n      <td>51.10998</td>\n      <td>5.00486</td>\n    </tr>\n    <tr>\n      <th>3</th>\n      <td>BELLD02</td>\n      <td>51.12038</td>\n      <td>5.02155</td>\n    </tr>\n    <tr>\n      <th>4</th>\n      <td>BELR833</td>\n      <td>51.32766</td>\n      <td>4.36226</td>\n    </tr>\n  </tbody>\n</table>\n</div>"
     },
     "execution_count": 10,
     "metadata": {},
     "output_type": "execute_result"
    }
   ],
   "source": [
    "stations_coord = pd.read_csv(\"data/air_quality_stations.csv\")\n",
    "\n",
    "stations_coord.head()"
   ],
   "metadata": {
    "collapsed": false
   }
  },
  {
   "cell_type": "code",
   "execution_count": 11,
   "outputs": [
    {
     "data": {
      "text/plain": "  location  coordinates.latitude  coordinates.longitude\n0  BELAL01              51.23619                4.38522\n1  BELHB23              51.17030                4.34100\n2  BELLD01              51.10998                5.00486\n3  BELLD02              51.12038                5.02155\n4  BELR833              51.32766                4.36226",
      "text/html": "<div>\n<style scoped>\n    .dataframe tbody tr th:only-of-type {\n        vertical-align: middle;\n    }\n\n    .dataframe tbody tr th {\n        vertical-align: top;\n    }\n\n    .dataframe thead th {\n        text-align: right;\n    }\n</style>\n<table border=\"1\" class=\"dataframe\">\n  <thead>\n    <tr style=\"text-align: right;\">\n      <th></th>\n      <th>location</th>\n      <th>coordinates.latitude</th>\n      <th>coordinates.longitude</th>\n    </tr>\n  </thead>\n  <tbody>\n    <tr>\n      <th>0</th>\n      <td>BELAL01</td>\n      <td>51.23619</td>\n      <td>4.38522</td>\n    </tr>\n    <tr>\n      <th>1</th>\n      <td>BELHB23</td>\n      <td>51.17030</td>\n      <td>4.34100</td>\n    </tr>\n    <tr>\n      <th>2</th>\n      <td>BELLD01</td>\n      <td>51.10998</td>\n      <td>5.00486</td>\n    </tr>\n    <tr>\n      <th>3</th>\n      <td>BELLD02</td>\n      <td>51.12038</td>\n      <td>5.02155</td>\n    </tr>\n    <tr>\n      <th>4</th>\n      <td>BELR833</td>\n      <td>51.32766</td>\n      <td>4.36226</td>\n    </tr>\n  </tbody>\n</table>\n</div>"
     },
     "execution_count": 11,
     "metadata": {},
     "output_type": "execute_result"
    }
   ],
   "source": [
    "stations_coord = pd.read_csv(\"data/air_quality_stations.csv\")\n",
    "\n",
    "stations_coord.head()"
   ],
   "metadata": {
    "collapsed": false
   }
  },
  {
   "cell_type": "code",
   "execution_count": 12,
   "outputs": [
    {
     "data": {
      "text/plain": "                       date.utc            location parameter  value\n2067  2019-05-07 01:00:00+00:00  London Westminster       no2   23.0\n1003  2019-05-07 01:00:00+00:00             FR04014       no2   25.0\n100   2019-05-07 01:00:00+00:00             BETR801      pm25   12.5\n1098  2019-05-07 01:00:00+00:00             BETR801       no2   50.5\n1109  2019-05-07 01:00:00+00:00  London Westminster      pm25    8.0",
      "text/html": "<div>\n<style scoped>\n    .dataframe tbody tr th:only-of-type {\n        vertical-align: middle;\n    }\n\n    .dataframe tbody tr th {\n        vertical-align: top;\n    }\n\n    .dataframe thead th {\n        text-align: right;\n    }\n</style>\n<table border=\"1\" class=\"dataframe\">\n  <thead>\n    <tr style=\"text-align: right;\">\n      <th></th>\n      <th>date.utc</th>\n      <th>location</th>\n      <th>parameter</th>\n      <th>value</th>\n    </tr>\n  </thead>\n  <tbody>\n    <tr>\n      <th>2067</th>\n      <td>2019-05-07 01:00:00+00:00</td>\n      <td>London Westminster</td>\n      <td>no2</td>\n      <td>23.0</td>\n    </tr>\n    <tr>\n      <th>1003</th>\n      <td>2019-05-07 01:00:00+00:00</td>\n      <td>FR04014</td>\n      <td>no2</td>\n      <td>25.0</td>\n    </tr>\n    <tr>\n      <th>100</th>\n      <td>2019-05-07 01:00:00+00:00</td>\n      <td>BETR801</td>\n      <td>pm25</td>\n      <td>12.5</td>\n    </tr>\n    <tr>\n      <th>1098</th>\n      <td>2019-05-07 01:00:00+00:00</td>\n      <td>BETR801</td>\n      <td>no2</td>\n      <td>50.5</td>\n    </tr>\n    <tr>\n      <th>1109</th>\n      <td>2019-05-07 01:00:00+00:00</td>\n      <td>London Westminster</td>\n      <td>pm25</td>\n      <td>8.0</td>\n    </tr>\n  </tbody>\n</table>\n</div>"
     },
     "execution_count": 12,
     "metadata": {},
     "output_type": "execute_result"
    }
   ],
   "source": [
    "air_quality.head()"
   ],
   "metadata": {
    "collapsed": false
   }
  },
  {
   "cell_type": "code",
   "execution_count": 13,
   "outputs": [
    {
     "data": {
      "text/plain": "                    date.utc            location parameter  value  \\\n0  2019-05-07 01:00:00+00:00  London Westminster       no2   23.0   \n1  2019-05-07 01:00:00+00:00             FR04014       no2   25.0   \n2  2019-05-07 01:00:00+00:00             FR04014       no2   25.0   \n3  2019-05-07 01:00:00+00:00             BETR801      pm25   12.5   \n4  2019-05-07 01:00:00+00:00             BETR801       no2   50.5   \n\n   coordinates.latitude  coordinates.longitude  \n0              51.49467               -0.13193  \n1              48.83724                2.39390  \n2              48.83722                2.39390  \n3              51.20966                4.43182  \n4              51.20966                4.43182  ",
      "text/html": "<div>\n<style scoped>\n    .dataframe tbody tr th:only-of-type {\n        vertical-align: middle;\n    }\n\n    .dataframe tbody tr th {\n        vertical-align: top;\n    }\n\n    .dataframe thead th {\n        text-align: right;\n    }\n</style>\n<table border=\"1\" class=\"dataframe\">\n  <thead>\n    <tr style=\"text-align: right;\">\n      <th></th>\n      <th>date.utc</th>\n      <th>location</th>\n      <th>parameter</th>\n      <th>value</th>\n      <th>coordinates.latitude</th>\n      <th>coordinates.longitude</th>\n    </tr>\n  </thead>\n  <tbody>\n    <tr>\n      <th>0</th>\n      <td>2019-05-07 01:00:00+00:00</td>\n      <td>London Westminster</td>\n      <td>no2</td>\n      <td>23.0</td>\n      <td>51.49467</td>\n      <td>-0.13193</td>\n    </tr>\n    <tr>\n      <th>1</th>\n      <td>2019-05-07 01:00:00+00:00</td>\n      <td>FR04014</td>\n      <td>no2</td>\n      <td>25.0</td>\n      <td>48.83724</td>\n      <td>2.39390</td>\n    </tr>\n    <tr>\n      <th>2</th>\n      <td>2019-05-07 01:00:00+00:00</td>\n      <td>FR04014</td>\n      <td>no2</td>\n      <td>25.0</td>\n      <td>48.83722</td>\n      <td>2.39390</td>\n    </tr>\n    <tr>\n      <th>3</th>\n      <td>2019-05-07 01:00:00+00:00</td>\n      <td>BETR801</td>\n      <td>pm25</td>\n      <td>12.5</td>\n      <td>51.20966</td>\n      <td>4.43182</td>\n    </tr>\n    <tr>\n      <th>4</th>\n      <td>2019-05-07 01:00:00+00:00</td>\n      <td>BETR801</td>\n      <td>no2</td>\n      <td>50.5</td>\n      <td>51.20966</td>\n      <td>4.43182</td>\n    </tr>\n  </tbody>\n</table>\n</div>"
     },
     "execution_count": 13,
     "metadata": {},
     "output_type": "execute_result"
    }
   ],
   "source": [
    "air_quality = pd.merge(air_quality, stations_coord, how=\"left\", on=\"location\")\n",
    "\n",
    "air_quality.head()"
   ],
   "metadata": {
    "collapsed": false
   }
  },
  {
   "cell_type": "code",
   "execution_count": 15,
   "outputs": [
    {
     "data": {
      "text/plain": "     id                                        description  name\n0    bc                                       Black Carbon    BC\n1    co                                    Carbon Monoxide    CO\n2   no2                                   Nitrogen Dioxide   NO2\n3    o3                                              Ozone    O3\n4  pm10  Particulate matter less than 10 micrometers in...  PM10",
      "text/html": "<div>\n<style scoped>\n    .dataframe tbody tr th:only-of-type {\n        vertical-align: middle;\n    }\n\n    .dataframe tbody tr th {\n        vertical-align: top;\n    }\n\n    .dataframe thead th {\n        text-align: right;\n    }\n</style>\n<table border=\"1\" class=\"dataframe\">\n  <thead>\n    <tr style=\"text-align: right;\">\n      <th></th>\n      <th>id</th>\n      <th>description</th>\n      <th>name</th>\n    </tr>\n  </thead>\n  <tbody>\n    <tr>\n      <th>0</th>\n      <td>bc</td>\n      <td>Black Carbon</td>\n      <td>BC</td>\n    </tr>\n    <tr>\n      <th>1</th>\n      <td>co</td>\n      <td>Carbon Monoxide</td>\n      <td>CO</td>\n    </tr>\n    <tr>\n      <th>2</th>\n      <td>no2</td>\n      <td>Nitrogen Dioxide</td>\n      <td>NO2</td>\n    </tr>\n    <tr>\n      <th>3</th>\n      <td>o3</td>\n      <td>Ozone</td>\n      <td>O3</td>\n    </tr>\n    <tr>\n      <th>4</th>\n      <td>pm10</td>\n      <td>Particulate matter less than 10 micrometers in...</td>\n      <td>PM10</td>\n    </tr>\n  </tbody>\n</table>\n</div>"
     },
     "execution_count": 15,
     "metadata": {},
     "output_type": "execute_result"
    }
   ],
   "source": [
    "air_quality_parameters = pd.read_csv(\"data/air_quality_parameters.csv\")\n",
    "\n",
    "air_quality_parameters.head()"
   ],
   "metadata": {
    "collapsed": false
   }
  },
  {
   "cell_type": "code",
   "execution_count": 16,
   "outputs": [
    {
     "data": {
      "text/plain": "                    date.utc            location parameter  value  \\\n0  2019-05-07 01:00:00+00:00  London Westminster       no2   23.0   \n1  2019-05-07 01:00:00+00:00             FR04014       no2   25.0   \n2  2019-05-07 01:00:00+00:00             FR04014       no2   25.0   \n3  2019-05-07 01:00:00+00:00             BETR801      pm25   12.5   \n4  2019-05-07 01:00:00+00:00             BETR801       no2   50.5   \n\n   coordinates.latitude  coordinates.longitude    id  \\\n0              51.49467               -0.13193   no2   \n1              48.83724                2.39390   no2   \n2              48.83722                2.39390   no2   \n3              51.20966                4.43182  pm25   \n4              51.20966                4.43182   no2   \n\n                                         description   name  \n0                                   Nitrogen Dioxide    NO2  \n1                                   Nitrogen Dioxide    NO2  \n2                                   Nitrogen Dioxide    NO2  \n3  Particulate matter less than 2.5 micrometers i...  PM2.5  \n4                                   Nitrogen Dioxide    NO2  ",
      "text/html": "<div>\n<style scoped>\n    .dataframe tbody tr th:only-of-type {\n        vertical-align: middle;\n    }\n\n    .dataframe tbody tr th {\n        vertical-align: top;\n    }\n\n    .dataframe thead th {\n        text-align: right;\n    }\n</style>\n<table border=\"1\" class=\"dataframe\">\n  <thead>\n    <tr style=\"text-align: right;\">\n      <th></th>\n      <th>date.utc</th>\n      <th>location</th>\n      <th>parameter</th>\n      <th>value</th>\n      <th>coordinates.latitude</th>\n      <th>coordinates.longitude</th>\n      <th>id</th>\n      <th>description</th>\n      <th>name</th>\n    </tr>\n  </thead>\n  <tbody>\n    <tr>\n      <th>0</th>\n      <td>2019-05-07 01:00:00+00:00</td>\n      <td>London Westminster</td>\n      <td>no2</td>\n      <td>23.0</td>\n      <td>51.49467</td>\n      <td>-0.13193</td>\n      <td>no2</td>\n      <td>Nitrogen Dioxide</td>\n      <td>NO2</td>\n    </tr>\n    <tr>\n      <th>1</th>\n      <td>2019-05-07 01:00:00+00:00</td>\n      <td>FR04014</td>\n      <td>no2</td>\n      <td>25.0</td>\n      <td>48.83724</td>\n      <td>2.39390</td>\n      <td>no2</td>\n      <td>Nitrogen Dioxide</td>\n      <td>NO2</td>\n    </tr>\n    <tr>\n      <th>2</th>\n      <td>2019-05-07 01:00:00+00:00</td>\n      <td>FR04014</td>\n      <td>no2</td>\n      <td>25.0</td>\n      <td>48.83722</td>\n      <td>2.39390</td>\n      <td>no2</td>\n      <td>Nitrogen Dioxide</td>\n      <td>NO2</td>\n    </tr>\n    <tr>\n      <th>3</th>\n      <td>2019-05-07 01:00:00+00:00</td>\n      <td>BETR801</td>\n      <td>pm25</td>\n      <td>12.5</td>\n      <td>51.20966</td>\n      <td>4.43182</td>\n      <td>pm25</td>\n      <td>Particulate matter less than 2.5 micrometers i...</td>\n      <td>PM2.5</td>\n    </tr>\n    <tr>\n      <th>4</th>\n      <td>2019-05-07 01:00:00+00:00</td>\n      <td>BETR801</td>\n      <td>no2</td>\n      <td>50.5</td>\n      <td>51.20966</td>\n      <td>4.43182</td>\n      <td>no2</td>\n      <td>Nitrogen Dioxide</td>\n      <td>NO2</td>\n    </tr>\n  </tbody>\n</table>\n</div>"
     },
     "execution_count": 16,
     "metadata": {},
     "output_type": "execute_result"
    }
   ],
   "source": [
    "air_quality = pd.merge(air_quality, air_quality_parameters,\n",
    "                       how='left', left_on='parameter', right_on='id')\n",
    "\n",
    "air_quality.head()"
   ],
   "metadata": {
    "collapsed": false
   }
  },
  {
   "cell_type": "code",
   "execution_count": null,
   "outputs": [],
   "source": [],
   "metadata": {
    "collapsed": false
   }
  }
 ],
 "metadata": {
  "kernelspec": {
   "display_name": "Python 3",
   "language": "python",
   "name": "python3"
  },
  "language_info": {
   "codemirror_mode": {
    "name": "ipython",
    "version": 2
   },
   "file_extension": ".py",
   "mimetype": "text/x-python",
   "name": "python",
   "nbconvert_exporter": "python",
   "pygments_lexer": "ipython2",
   "version": "2.7.6"
  }
 },
 "nbformat": 4,
 "nbformat_minor": 0
}
